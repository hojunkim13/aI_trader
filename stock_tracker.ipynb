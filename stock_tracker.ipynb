{
 "metadata": {
  "language_info": {
   "codemirror_mode": {
    "name": "ipython",
    "version": 3
   },
   "file_extension": ".py",
   "mimetype": "text/x-python",
   "name": "python",
   "nbconvert_exporter": "python",
   "pygments_lexer": "ipython3",
   "version": "3.8.5-final"
  },
  "orig_nbformat": 2,
  "kernelspec": {
   "name": "python3",
   "display_name": "Python 3",
   "language": "python"
  }
 },
 "nbformat": 4,
 "nbformat_minor": 2,
 "cells": [
  {
   "cell_type": "code",
   "execution_count": 34,
   "metadata": {},
   "outputs": [
    {
     "output_type": "stream",
     "name": "stdout",
     "text": [
      "보령제약\n"
     ]
    },
    {
     "output_type": "execute_result",
     "data": {
      "text/plain": [
       "             High    Low   Open  Close    Volume\n",
       "Date                                            \n",
       "2021-01-11  25800  19650  20500  25800  12639281\n",
       "2021-01-12  30100  23000  27500  23650  17645500"
      ],
      "text/html": "<div>\n<style scoped>\n    .dataframe tbody tr th:only-of-type {\n        vertical-align: middle;\n    }\n\n    .dataframe tbody tr th {\n        vertical-align: top;\n    }\n\n    .dataframe thead th {\n        text-align: right;\n    }\n</style>\n<table border=\"1\" class=\"dataframe\">\n  <thead>\n    <tr style=\"text-align: right;\">\n      <th></th>\n      <th>High</th>\n      <th>Low</th>\n      <th>Open</th>\n      <th>Close</th>\n      <th>Volume</th>\n    </tr>\n    <tr>\n      <th>Date</th>\n      <th></th>\n      <th></th>\n      <th></th>\n      <th></th>\n      <th></th>\n    </tr>\n  </thead>\n  <tbody>\n    <tr>\n      <th>2021-01-11</th>\n      <td>25800</td>\n      <td>19650</td>\n      <td>20500</td>\n      <td>25800</td>\n      <td>12639281</td>\n    </tr>\n    <tr>\n      <th>2021-01-12</th>\n      <td>30100</td>\n      <td>23000</td>\n      <td>27500</td>\n      <td>23650</td>\n      <td>17645500</td>\n    </tr>\n  </tbody>\n</table>\n</div>"
     },
     "metadata": {},
     "execution_count": 34
    }
   ],
   "source": [
    "import pandas as pd\n",
    "import numpy as np\n",
    "import pandas_datareader as pdr\n",
    "from datetime import datetime, timedelta\n",
    "\n",
    "Name = '보령제약'\n",
    "end_date = datetime.today()\n",
    "start_date = end_date + timedelta(days = -1)\n",
    "\n",
    "\n",
    "df = pd.read_csv('./data/KOSPI.csv').drop(columns='NO')\n",
    "df['종목코드'] = df['종목코드'].apply(lambda x : x[3:9] + '.KS')\n",
    "target = df[df['종목명'] == Name]\n",
    "target_name = target['종목명'].item()\n",
    "target_code = target['종목코드'].item()\n",
    "target_data = pdr.get_data_yahoo(target_code, start_date, end_date).drop(columns = 'Adj Close')\n",
    "print(target_name)\n",
    "target_data\n"
   ]
  },
  {
   "cell_type": "code",
   "execution_count": null,
   "metadata": {},
   "outputs": [],
   "source": []
  }
 ]
}